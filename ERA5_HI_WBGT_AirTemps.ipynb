{
 "cells": [
  {
   "cell_type": "markdown",
   "id": "7a084cb9",
   "metadata": {},
   "source": [
    "# ERA5 HI, WBGT & Air Temps\n",
    "Cascade Tuholske, Oct 2024\n",
    "\n",
    "This is a notebook to generate daily maximum heat index, maximum indoor/shared wet blube globe temperature and daily minimum/maximum air temperature using ERA5 Land climate reanalysis. The data can be downloaed from [ECWMF](https://cds.climate.copernicus.eu/datasets/reanalysis-era5-land?tab=download).\n",
    "\n",
    "Here we are using hour dew point temperature, 2 meter air temperature, and surface pressure for July 2020. We have selected a spatial extent covering Ghana. The file is downloaded in a `NetCDF` format so that we can use `Xarray` to process the data.\n",
    "\n",
    "While there are many heat stress metrics, we are going to use heat index and an approximated shade wet bulb globe temperature. You can read about the conversion of HI to WBGT [here](https://www.tandfonline.com/doi/abs/10.1080/15459624.2014.989365?casa_token=sExUV3cSMu0AAAAA:xGVypJnWLDwg4hvnAoAET8Hvn0_v_dca-IojLQ1jyuqrekH9_QsO6BW1djKQY9mYLgRX-aI5Rwxmcw).  \n",
    "\n",
    "Below is a referesher on `Xarray` data structures:\n",
    "\n",
    "#### Understanding Xarray's Data Structures\n",
    "\n",
    "Xarray introduces two main data structures: `DataArray` and `Dataset`. These structures are built on top of NumPy and pandas. We recommend you read about [`Xarray` data structures](https://docs.xarray.dev/en/stable/user-guide/data-structures.html) because the terminology can be a bit confusing\n",
    "\n",
    "A `DataArray` is Xarray’s implementation of a labeled, multi-dimensional array. \n",
    "\n",
    "- Values: a numpy.ndarray or numpy-like array holding the array’s values\n",
    "- Dimensions: These are names for each axis of the array. For instance, in climate data, common dimensions include 'time', 'latitude', and 'longitude'.\n",
    "- Coordinates: These are arrays that label each point, such as specific dates for the 'time' dimension or longitude and latitude values for geographical dimensions. Coordinates enable powerful and intuitive data selections.\n",
    "- Attributes: These are metadata for the array, used to store arbitrary metadata such as the description of the dataset, units of measurement, or other relevant information.\n",
    "\n",
    "A `Dataset` is a dictionary-like container that holds multiple variables (arrays) that potentially share the same coordinates. It is analogous to a pandas DataFrame but can handle multi-dimensional data. Each variable in a Dataset is itself a DataArray.\n",
    "\n",
    "![ntl](./assets/xarray.png) <br>\n",
    "\n",
    "Basically, `Xarray` allows you to create labeled n-dimentional numpy arrays. So you can label your datasets (temperature, precipitation, etc.) and your dimentions (time, lat/long, etc.) to easily subset the data to run analysis. For example, you could say, what is the average heat index in Accra based on Lat/Long with just a few lines of code. **Note** We will use the package [`rioxarray`](https://corteva.github.io/rioxarray/html/rioxarray.html) too to load in the GeoTiff files. More on this later.   \n",
    "\n",
    "### Let's get started!\n",
    "<hr style=\"border-top: 1px solid gray; margin-top: 24px; margin-bottom: 1px\"></hr>"
   ]
  },
  {
   "cell_type": "markdown",
   "id": "53dfe7d8",
   "metadata": {},
   "source": [
    "<div class=\"run\">\n",
    "    ▶️ <b> Run the cells below. </b>\n",
    "</div>"
   ]
  },
  {
   "cell_type": "code",
   "execution_count": 6,
   "id": "655c3c5c",
   "metadata": {},
   "outputs": [],
   "source": [
    "# Dependencies \n",
    "import os\n",
    "import glob \n",
    "import xarray as xr\n",
    "import dask\n",
    "import rioxarray as rio\n",
    "import pandas as pd\n",
    "import numpy as np\n",
    "import rasterio\n",
    "import ClimFuncs as cf\n",
    "from atmos import moisture\n",
    "from atmos import thermo\n",
    "from atmos.moisture import relative_humidity_from_dewpoint_temperature as rh\n",
    "import matplotlib.pyplot as plt"
   ]
  },
  {
   "cell_type": "markdown",
   "id": "f86afb0d",
   "metadata": {},
   "source": [
    "### Open the NetCDF File as an Xarray Dataset"
   ]
  },
  {
   "cell_type": "code",
   "execution_count": 7,
   "id": "14637e48",
   "metadata": {},
   "outputs": [
    {
     "ename": "ValueError",
     "evalue": "found the following matches with the input file in xarray's IO backends: ['netcdf4', 'h5netcdf']. But their dependencies may not be installed, see:\nhttps://docs.xarray.dev/en/stable/user-guide/io.html \nhttps://docs.xarray.dev/en/stable/getting-started-guide/installing.html",
     "output_type": "error",
     "traceback": [
      "\u001b[1;31m---------------------------------------------------------------------------\u001b[0m",
      "\u001b[1;31mValueError\u001b[0m                                Traceback (most recent call last)",
      "Cell \u001b[1;32mIn[7], line 2\u001b[0m\n\u001b[0;32m      1\u001b[0m fn \u001b[38;5;241m=\u001b[39m os\u001b[38;5;241m.\u001b[39mpath\u001b[38;5;241m.\u001b[39mjoin(\u001b[38;5;124m'\u001b[39m\u001b[38;5;124m./data/ERA5-2020-07-td-t-p.nc\u001b[39m\u001b[38;5;124m'\u001b[39m)\n\u001b[1;32m----> 2\u001b[0m ds \u001b[38;5;241m=\u001b[39m xr\u001b[38;5;241m.\u001b[39mopen_dataset(fn)\n",
      "File \u001b[1;32mC:\\anaconda3\\Lib\\site-packages\\xarray\\backends\\api.py:547\u001b[0m, in \u001b[0;36mopen_dataset\u001b[1;34m(filename_or_obj, engine, chunks, cache, decode_cf, mask_and_scale, decode_times, decode_timedelta, use_cftime, concat_characters, decode_coords, drop_variables, inline_array, chunked_array_type, from_array_kwargs, backend_kwargs, **kwargs)\u001b[0m\n\u001b[0;32m    544\u001b[0m     kwargs\u001b[38;5;241m.\u001b[39mupdate(backend_kwargs)\n\u001b[0;32m    546\u001b[0m \u001b[38;5;28;01mif\u001b[39;00m engine \u001b[38;5;129;01mis\u001b[39;00m \u001b[38;5;28;01mNone\u001b[39;00m:\n\u001b[1;32m--> 547\u001b[0m     engine \u001b[38;5;241m=\u001b[39m plugins\u001b[38;5;241m.\u001b[39mguess_engine(filename_or_obj)\n\u001b[0;32m    549\u001b[0m \u001b[38;5;28;01mif\u001b[39;00m from_array_kwargs \u001b[38;5;129;01mis\u001b[39;00m \u001b[38;5;28;01mNone\u001b[39;00m:\n\u001b[0;32m    550\u001b[0m     from_array_kwargs \u001b[38;5;241m=\u001b[39m {}\n",
      "File \u001b[1;32mC:\\anaconda3\\Lib\\site-packages\\xarray\\backends\\plugins.py:197\u001b[0m, in \u001b[0;36mguess_engine\u001b[1;34m(store_spec)\u001b[0m\n\u001b[0;32m    189\u001b[0m \u001b[38;5;28;01melse\u001b[39;00m:\n\u001b[0;32m    190\u001b[0m     error_msg \u001b[38;5;241m=\u001b[39m (\n\u001b[0;32m    191\u001b[0m         \u001b[38;5;124m\"\u001b[39m\u001b[38;5;124mfound the following matches with the input file in xarray\u001b[39m\u001b[38;5;124m'\u001b[39m\u001b[38;5;124ms IO \u001b[39m\u001b[38;5;124m\"\u001b[39m\n\u001b[0;32m    192\u001b[0m         \u001b[38;5;124mf\u001b[39m\u001b[38;5;124m\"\u001b[39m\u001b[38;5;124mbackends: \u001b[39m\u001b[38;5;132;01m{\u001b[39;00mcompatible_engines\u001b[38;5;132;01m}\u001b[39;00m\u001b[38;5;124m. But their dependencies may not be installed, see:\u001b[39m\u001b[38;5;130;01m\\n\u001b[39;00m\u001b[38;5;124m\"\u001b[39m\n\u001b[0;32m    193\u001b[0m         \u001b[38;5;124m\"\u001b[39m\u001b[38;5;124mhttps://docs.xarray.dev/en/stable/user-guide/io.html \u001b[39m\u001b[38;5;130;01m\\n\u001b[39;00m\u001b[38;5;124m\"\u001b[39m\n\u001b[0;32m    194\u001b[0m         \u001b[38;5;124m\"\u001b[39m\u001b[38;5;124mhttps://docs.xarray.dev/en/stable/getting-started-guide/installing.html\u001b[39m\u001b[38;5;124m\"\u001b[39m\n\u001b[0;32m    195\u001b[0m     )\n\u001b[1;32m--> 197\u001b[0m \u001b[38;5;28;01mraise\u001b[39;00m \u001b[38;5;167;01mValueError\u001b[39;00m(error_msg)\n",
      "\u001b[1;31mValueError\u001b[0m: found the following matches with the input file in xarray's IO backends: ['netcdf4', 'h5netcdf']. But their dependencies may not be installed, see:\nhttps://docs.xarray.dev/en/stable/user-guide/io.html \nhttps://docs.xarray.dev/en/stable/getting-started-guide/installing.html"
     ]
    }
   ],
   "source": [
    "fn = os.path.join('./data/ERA5-2020-07-td-t-p.nc')\n",
    "ds = xr.open_dataset(fn)"
   ]
  },
  {
   "cell_type": "code",
   "execution_count": null,
   "id": "027f62c9",
   "metadata": {
    "scrolled": true
   },
   "outputs": [],
   "source": [
    "ds"
   ]
  },
  {
   "cell_type": "markdown",
   "id": "878e3238",
   "metadata": {},
   "source": [
    "### Check the data\n",
    "Notice that the temperature data is in Kelvin ..."
   ]
  },
  {
   "cell_type": "code",
   "execution_count": null,
   "id": "51a65d26",
   "metadata": {},
   "outputs": [],
   "source": [
    "arr = ds.d2m.isel(valid_time = 1)"
   ]
  },
  {
   "cell_type": "code",
   "execution_count": null,
   "id": "3acc82b4",
   "metadata": {},
   "outputs": [],
   "source": [
    "plt.imshow(arr)\n",
    "plt.title('2m Dewpoint Temperature July 1, 2020 00h')\n",
    "plt.colorbar()"
   ]
  },
  {
   "cell_type": "code",
   "execution_count": null,
   "id": "b465563c",
   "metadata": {},
   "outputs": [],
   "source": [
    "arr = ds.t2m.isel(valid_time = 1)"
   ]
  },
  {
   "cell_type": "code",
   "execution_count": null,
   "id": "ebf53df2",
   "metadata": {},
   "outputs": [],
   "source": [
    "plt.imshow(arr)\n",
    "plt.title('2m Air Temperature July 1, 2020 00h')\n",
    "plt.colorbar()"
   ]
  },
  {
   "cell_type": "markdown",
   "id": "7d8d3b23",
   "metadata": {},
   "source": [
    "# Estimate Relative Humidity "
   ]
  },
  {
   "cell_type": "code",
   "execution_count": null,
   "id": "55c3bd60",
   "metadata": {},
   "outputs": [],
   "source": [
    "ds['rh'] = xr.apply_ufunc(rh, ds.t2m, ds.d2m)"
   ]
  },
  {
   "cell_type": "markdown",
   "id": "90d1aac2",
   "metadata": {},
   "source": [
    "# Estimate Heat Index & WBGT"
   ]
  },
  {
   "cell_type": "code",
   "execution_count": null,
   "id": "e362e944",
   "metadata": {},
   "outputs": [],
   "source": [
    "def make_hi_wbgt(ds):\n",
    "    \"\"\"\n",
    "    Calculate heat index (HI) and wet-bulb globe temperature (WBGT) from a dataset containing temperature and relative humidity.\n",
    "\n",
    "    This function takes a dataset (`ds`) with temperature in Kelvin and relative humidity (RH), converts temperature \n",
    "    to Celsius and Fahrenheit, computes the heat index in Fahrenheit, converts it back to Celsius, and calculates the \n",
    "    wet-bulb globe temperature. The computed values are added as new variables to the dataset.\n",
    "\n",
    "    Parameters\n",
    "    ----------\n",
    "    ds : xarray.Dataset\n",
    "        An xarray dataset containing at least two variables:\n",
    "        - `t2m` : Temperature in Kelvin.\n",
    "        - `rh`  : Relative humidity as a percentage.\n",
    "\n",
    "    Returns\n",
    "    -------\n",
    "    xarray.Dataset\n",
    "        The input dataset with added variables:\n",
    "        - `t2m_c` : Temperature in Celsius.\n",
    "        - `t2m_f` : Temperature in Fahrenheit.\n",
    "        - `hi`    : Heat index in Celsius.\n",
    "        - `wbgt`  : Wet-bulb globe temperature in Celsius.\n",
    "\n",
    "    Notes\n",
    "    -----\n",
    "    The function assumes that:\n",
    "    - Temperature in Kelvin (`t2m`) is converted to Celsius and Fahrenheit.\n",
    "    - Heat index (`hi`) is calculated in Fahrenheit and then converted back to Celsius.\n",
    "    - Wet-bulb globe temperature (`wbgt`) is derived from the heat index.\n",
    "    \n",
    "    Requires the `cf` module for temperature and heat index conversions.\n",
    "    \"\"\"\n",
    "    ds['t2m_c'] = ds.t2m - 273.15\n",
    "    ds['t2m_f'] = xr.apply_ufunc(cf.C_to_F, ds.t2m_c)\n",
    "    ds['hi'] = cf.heatindex(ds.t2m_f, ds.rh, 'F', 'F')\n",
    "    ds['wbgt'] = xr.apply_ufunc(cf.hi_to_wbgt, ds.hi)\n",
    "    ds['hi'] = xr.apply_ufunc(cf.F_to_C, ds.hi)\n",
    "    \n",
    "    return ds"
   ]
  },
  {
   "cell_type": "code",
   "execution_count": null,
   "id": "524d6a5c",
   "metadata": {},
   "outputs": [],
   "source": [
    "ds = make_hi_wbgt(ds)"
   ]
  },
  {
   "cell_type": "code",
   "execution_count": null,
   "id": "6e970200",
   "metadata": {},
   "outputs": [],
   "source": [
    "ds.hi.max(dim = 'valid_time')"
   ]
  },
  {
   "cell_type": "markdown",
   "id": "c162aa99",
   "metadata": {},
   "source": [
    "### Check the data\n",
    "Let's look at the hi and wbgt data"
   ]
  },
  {
   "cell_type": "code",
   "execution_count": null,
   "id": "64b8760b",
   "metadata": {},
   "outputs": [],
   "source": [
    "# Define subplots with smaller size\n",
    "fig, axs = plt.subplots(3, 2, figsize=(15, 15))  # 2 row, 2 columns\n",
    "\n",
    "arr = ds.hi.isel(valid_time = 12)\n",
    "p1 = axs[0][0].imshow(arr)\n",
    "cbar = fig.colorbar(p1, ax=axs[0][0], orientation='vertical', fraction=0.02, pad=0.04)\n",
    "axs[0][0].set_title('Heat Index July 1, 2020 00h')\n",
    "\n",
    "arr = ds.wbgt.isel(valid_time = 12)\n",
    "p1 = axs[0][1].imshow(arr)\n",
    "cbar = fig.colorbar(p1, ax=axs[0][1], orientation='vertical', fraction=0.02, pad=0.04)\n",
    "axs[0][1].set_title('WBGT July 1, 2020 00h')\n",
    "\n",
    "arr = ds.t2m_c.isel(valid_time = 12)\n",
    "p1 = axs[1][0].imshow(arr)\n",
    "cbar = fig.colorbar(p1, ax=axs[1][0], orientation='vertical', fraction=0.02, pad=0.04)\n",
    "axs[1][0].set_title('T2m (°C) July 1, 2020 00h')\n",
    "\n",
    "arr = ds.t2m_f.isel(valid_time = 12)\n",
    "p1 = axs[1][1].imshow(arr)\n",
    "cbar = fig.colorbar(p1, ax=axs[1][1], orientation='vertical', fraction=0.02, pad=0.04)\n",
    "axs[1][1].set_title('T2m (°F) July 1, 2020 00h')\n",
    "\n",
    "arr = ds.rh.isel(valid_time = 12)\n",
    "p1 = axs[2][0].imshow(arr)\n",
    "cbar = fig.colorbar(p1, ax=axs[2][0], orientation='vertical', fraction=0.02, pad=0.04)\n",
    "axs[2][0].set_title('RH July 1, 2020 00h')\n",
    "\n",
    "arr = ds.d2m.isel(valid_time = 12)\n",
    "p1 = axs[2][1].imshow(arr)\n",
    "cbar = fig.colorbar(p1, ax=axs[2][1], orientation='vertical', fraction=0.02, pad=0.04)\n",
    "axs[2][1].set_title('DewPoint Temp (°c) July 1, 2020 00h')"
   ]
  },
  {
   "cell_type": "code",
   "execution_count": null,
   "id": "453d55d0",
   "metadata": {},
   "outputs": [],
   "source": [
    "arr = ds.hi.isel(valid_time = 1)"
   ]
  },
  {
   "cell_type": "code",
   "execution_count": null,
   "id": "76e07b69",
   "metadata": {},
   "outputs": [],
   "source": [
    "plt.imshow(arr)\n",
    "plt.title('Heat Index July 1, 2020 00h')\n",
    "plt.colorbar()"
   ]
  },
  {
   "cell_type": "code",
   "execution_count": null,
   "id": "f75660c3",
   "metadata": {},
   "outputs": [],
   "source": [
    "arr = ds.wbgt.isel(valid_time = 1)"
   ]
  },
  {
   "cell_type": "code",
   "execution_count": null,
   "id": "0288a3b5",
   "metadata": {},
   "outputs": [],
   "source": [
    "plt.imshow(arr)\n",
    "plt.title('WBGT July 1, 2020 00h')\n",
    "plt.colorbar()"
   ]
  },
  {
   "cell_type": "markdown",
   "id": "796474fc",
   "metadata": {},
   "source": [
    "# Daily Max\n",
    "Now, let's select the daily maximum heat index, wet bulb glob temperature, min/max air temperature."
   ]
  },
  {
   "cell_type": "code",
   "execution_count": null,
   "id": "c12c3fa6",
   "metadata": {},
   "outputs": [],
   "source": [
    "# Select the daily values\n",
    "tmin = ds.t2m_c.resample(valid_time='1D').min(dim = 'valid_time')\n",
    "tmax = ds.t2m_c.resample(valid_time='1D').max(dim = 'valid_time')\n",
    "himax = ds.hi.resample(valid_time='1D').max(dim = 'valid_time')\n",
    "wbgtmax = ds.wbgt.resample(valid_time='1D').max(dim = 'valid_time')"
   ]
  },
  {
   "cell_type": "code",
   "execution_count": null,
   "id": "38793478",
   "metadata": {},
   "outputs": [],
   "source": [
    "# rename tmin and tmax \n",
    "tmin = tmin.rename('tmin')\n",
    "tmax = tmax.rename('tmax')"
   ]
  },
  {
   "cell_type": "code",
   "execution_count": null,
   "id": "8178f88b",
   "metadata": {},
   "outputs": [],
   "source": [
    "# take a look\n",
    "tmin"
   ]
  },
  {
   "cell_type": "code",
   "execution_count": null,
   "id": "c1e761b0",
   "metadata": {},
   "outputs": [],
   "source": [
    "# Concatenate the daily min/max values into a single dataset \n",
    "ds_out = xr.merge([tmin, tmax, himax, wbgtmax])"
   ]
  },
  {
   "cell_type": "code",
   "execution_count": null,
   "id": "e660db66",
   "metadata": {},
   "outputs": [],
   "source": [
    "# Check out ds_out\n",
    "ds_out"
   ]
  },
  {
   "cell_type": "markdown",
   "id": "55eae17d",
   "metadata": {},
   "source": [
    "# Save out the daily min/max data"
   ]
  },
  {
   "cell_type": "code",
   "execution_count": null,
   "id": "62607630",
   "metadata": {},
   "outputs": [],
   "source": [
    "fn_out = os.path.join('./data/ERA5-2020-07-dailyheat.nc')"
   ]
  },
  {
   "cell_type": "code",
   "execution_count": null,
   "id": "818dfddb",
   "metadata": {},
   "outputs": [],
   "source": [
    "# Save the dataset to a NetCDF file\n",
    "ds_out.to_netcdf(fn_out)"
   ]
  },
  {
   "cell_type": "code",
   "execution_count": null,
   "id": "91a0b79c-dbbd-43d1-b8b6-56885290642a",
   "metadata": {},
   "outputs": [],
   "source": []
  }
 ],
 "metadata": {
  "kernelspec": {
   "display_name": "Python 3 (ipykernel)",
   "language": "python",
   "name": "python3"
  },
  "language_info": {
   "codemirror_mode": {
    "name": "ipython",
    "version": 3
   },
   "file_extension": ".py",
   "mimetype": "text/x-python",
   "name": "python",
   "nbconvert_exporter": "python",
   "pygments_lexer": "ipython3",
   "version": "3.12.3"
  }
 },
 "nbformat": 4,
 "nbformat_minor": 5
}
